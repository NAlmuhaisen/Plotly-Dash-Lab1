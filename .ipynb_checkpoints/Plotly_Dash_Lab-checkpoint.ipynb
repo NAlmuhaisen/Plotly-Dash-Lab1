{
 "cells": [
  {
   "cell_type": "markdown",
   "metadata": {},
   "source": [
    "# Q0: import dash standard libraries"
   ]
  },
  {
   "cell_type": "code",
   "execution_count": 2,
   "metadata": {},
   "outputs": [
    {
     "name": "stdout",
     "output_type": "stream",
     "text": [
      "Collecting jupyter_dash\n",
      "  Downloading jupyter_dash-0.4.2-py3-none-any.whl (23 kB)\n",
      "Requirement already satisfied: requests in /Users/norah/anaconda3/lib/python3.10/site-packages (from jupyter_dash) (2.28.1)\n",
      "Requirement already satisfied: flask in /Users/norah/anaconda3/lib/python3.10/site-packages (from jupyter_dash) (2.2.2)\n",
      "Requirement already satisfied: ipykernel in /Users/norah/anaconda3/lib/python3.10/site-packages (from jupyter_dash) (6.19.2)\n",
      "Collecting dash\n",
      "  Downloading dash-2.10.1-py3-none-any.whl (10.3 MB)\n",
      "\u001b[2K     \u001b[90m━━━━━━━━━━━━━━━━━━━━━━━━━━━━━━━━━━━━━━━\u001b[0m \u001b[32m10.3/10.3 MB\u001b[0m \u001b[31m889.8 kB/s\u001b[0m eta \u001b[36m0:00:00\u001b[0m00:01\u001b[0m00:01\u001b[0m\n",
      "\u001b[?25hRequirement already satisfied: ipython in /Users/norah/anaconda3/lib/python3.10/site-packages (from jupyter_dash) (8.10.0)\n",
      "Collecting retrying\n",
      "  Downloading retrying-1.3.4-py3-none-any.whl (11 kB)\n",
      "Collecting ansi2html\n",
      "  Downloading ansi2html-1.8.0-py3-none-any.whl (16 kB)\n",
      "Requirement already satisfied: nest-asyncio in /Users/norah/anaconda3/lib/python3.10/site-packages (from jupyter_dash) (1.5.6)\n",
      "Collecting dash-html-components==2.0.0\n",
      "  Downloading dash_html_components-2.0.0-py3-none-any.whl (4.1 kB)\n",
      "Requirement already satisfied: plotly>=5.0.0 in /Users/norah/anaconda3/lib/python3.10/site-packages (from dash->jupyter_dash) (5.9.0)\n",
      "Requirement already satisfied: Werkzeug<=2.2.3 in /Users/norah/anaconda3/lib/python3.10/site-packages (from dash->jupyter_dash) (2.2.2)\n",
      "Collecting dash-core-components==2.0.0\n",
      "  Downloading dash_core_components-2.0.0-py3-none-any.whl (3.8 kB)\n",
      "Collecting dash-table==5.0.0\n",
      "  Downloading dash_table-5.0.0-py3-none-any.whl (3.9 kB)\n",
      "Requirement already satisfied: itsdangerous>=2.0 in /Users/norah/anaconda3/lib/python3.10/site-packages (from flask->jupyter_dash) (2.0.1)\n",
      "Requirement already satisfied: Jinja2>=3.0 in /Users/norah/anaconda3/lib/python3.10/site-packages (from flask->jupyter_dash) (3.1.2)\n",
      "Requirement already satisfied: click>=8.0 in /Users/norah/anaconda3/lib/python3.10/site-packages (from flask->jupyter_dash) (8.0.4)\n",
      "Requirement already satisfied: debugpy>=1.0 in /Users/norah/anaconda3/lib/python3.10/site-packages (from ipykernel->jupyter_dash) (1.5.1)\n",
      "Requirement already satisfied: psutil in /Users/norah/anaconda3/lib/python3.10/site-packages (from ipykernel->jupyter_dash) (5.9.0)\n",
      "Requirement already satisfied: traitlets>=5.4.0 in /Users/norah/anaconda3/lib/python3.10/site-packages (from ipykernel->jupyter_dash) (5.7.1)\n",
      "Requirement already satisfied: appnope in /Users/norah/anaconda3/lib/python3.10/site-packages (from ipykernel->jupyter_dash) (0.1.2)\n",
      "Requirement already satisfied: matplotlib-inline>=0.1 in /Users/norah/anaconda3/lib/python3.10/site-packages (from ipykernel->jupyter_dash) (0.1.6)\n",
      "Requirement already satisfied: pyzmq>=17 in /Users/norah/anaconda3/lib/python3.10/site-packages (from ipykernel->jupyter_dash) (23.2.0)\n",
      "Requirement already satisfied: jupyter-client>=6.1.12 in /Users/norah/anaconda3/lib/python3.10/site-packages (from ipykernel->jupyter_dash) (7.3.4)\n",
      "Requirement already satisfied: packaging in /Users/norah/anaconda3/lib/python3.10/site-packages (from ipykernel->jupyter_dash) (22.0)\n",
      "Requirement already satisfied: tornado>=6.1 in /Users/norah/anaconda3/lib/python3.10/site-packages (from ipykernel->jupyter_dash) (6.1)\n",
      "Requirement already satisfied: comm>=0.1.1 in /Users/norah/anaconda3/lib/python3.10/site-packages (from ipykernel->jupyter_dash) (0.1.2)\n",
      "Requirement already satisfied: stack-data in /Users/norah/anaconda3/lib/python3.10/site-packages (from ipython->jupyter_dash) (0.2.0)\n",
      "Requirement already satisfied: decorator in /Users/norah/anaconda3/lib/python3.10/site-packages (from ipython->jupyter_dash) (5.1.1)\n",
      "Requirement already satisfied: pygments>=2.4.0 in /Users/norah/anaconda3/lib/python3.10/site-packages (from ipython->jupyter_dash) (2.11.2)\n",
      "Requirement already satisfied: jedi>=0.16 in /Users/norah/anaconda3/lib/python3.10/site-packages (from ipython->jupyter_dash) (0.18.1)\n",
      "Requirement already satisfied: prompt-toolkit<3.1.0,>=3.0.30 in /Users/norah/anaconda3/lib/python3.10/site-packages (from ipython->jupyter_dash) (3.0.36)\n",
      "Requirement already satisfied: pickleshare in /Users/norah/anaconda3/lib/python3.10/site-packages (from ipython->jupyter_dash) (0.7.5)\n",
      "Requirement already satisfied: backcall in /Users/norah/anaconda3/lib/python3.10/site-packages (from ipython->jupyter_dash) (0.2.0)\n",
      "Requirement already satisfied: pexpect>4.3 in /Users/norah/anaconda3/lib/python3.10/site-packages (from ipython->jupyter_dash) (4.8.0)\n",
      "Requirement already satisfied: urllib3<1.27,>=1.21.1 in /Users/norah/anaconda3/lib/python3.10/site-packages (from requests->jupyter_dash) (1.26.14)\n",
      "Requirement already satisfied: charset-normalizer<3,>=2 in /Users/norah/anaconda3/lib/python3.10/site-packages (from requests->jupyter_dash) (2.0.4)\n",
      "Requirement already satisfied: idna<4,>=2.5 in /Users/norah/anaconda3/lib/python3.10/site-packages (from requests->jupyter_dash) (3.4)\n",
      "Requirement already satisfied: certifi>=2017.4.17 in /Users/norah/anaconda3/lib/python3.10/site-packages (from requests->jupyter_dash) (2022.12.7)\n",
      "Requirement already satisfied: six>=1.7.0 in /Users/norah/anaconda3/lib/python3.10/site-packages (from retrying->jupyter_dash) (1.16.0)\n",
      "Requirement already satisfied: parso<0.9.0,>=0.8.0 in /Users/norah/anaconda3/lib/python3.10/site-packages (from jedi>=0.16->ipython->jupyter_dash) (0.8.3)\n",
      "Requirement already satisfied: MarkupSafe>=2.0 in /Users/norah/anaconda3/lib/python3.10/site-packages (from Jinja2>=3.0->flask->jupyter_dash) (2.1.1)\n",
      "Requirement already satisfied: entrypoints in /Users/norah/anaconda3/lib/python3.10/site-packages (from jupyter-client>=6.1.12->ipykernel->jupyter_dash) (0.4)\n",
      "Requirement already satisfied: jupyter-core>=4.9.2 in /Users/norah/anaconda3/lib/python3.10/site-packages (from jupyter-client>=6.1.12->ipykernel->jupyter_dash) (5.2.0)\n",
      "Requirement already satisfied: python-dateutil>=2.8.2 in /Users/norah/anaconda3/lib/python3.10/site-packages (from jupyter-client>=6.1.12->ipykernel->jupyter_dash) (2.8.2)\n",
      "Requirement already satisfied: ptyprocess>=0.5 in /Users/norah/anaconda3/lib/python3.10/site-packages (from pexpect>4.3->ipython->jupyter_dash) (0.7.0)\n",
      "Requirement already satisfied: tenacity>=6.2.0 in /Users/norah/anaconda3/lib/python3.10/site-packages (from plotly>=5.0.0->dash->jupyter_dash) (8.0.1)\n",
      "Requirement already satisfied: wcwidth in /Users/norah/anaconda3/lib/python3.10/site-packages (from prompt-toolkit<3.1.0,>=3.0.30->ipython->jupyter_dash) (0.2.5)\n",
      "Requirement already satisfied: pure-eval in /Users/norah/anaconda3/lib/python3.10/site-packages (from stack-data->ipython->jupyter_dash) (0.2.2)\n",
      "Requirement already satisfied: executing in /Users/norah/anaconda3/lib/python3.10/site-packages (from stack-data->ipython->jupyter_dash) (0.8.3)\n",
      "Requirement already satisfied: asttokens in /Users/norah/anaconda3/lib/python3.10/site-packages (from stack-data->ipython->jupyter_dash) (2.0.5)\n",
      "Requirement already satisfied: platformdirs>=2.5 in /Users/norah/anaconda3/lib/python3.10/site-packages (from jupyter-core>=4.9.2->jupyter-client>=6.1.12->ipykernel->jupyter_dash) (2.5.2)\n",
      "Installing collected packages: dash-table, dash-html-components, dash-core-components, retrying, ansi2html, dash, jupyter_dash\n",
      "Successfully installed ansi2html-1.8.0 dash-2.10.1 dash-core-components-2.0.0 dash-html-components-2.0.0 dash-table-5.0.0 jupyter_dash-0.4.2 retrying-1.3.4\n",
      "Requirement already satisfied: Dash in /Users/norah/anaconda3/lib/python3.10/site-packages (2.10.1)\n",
      "Requirement already satisfied: plotly>=5.0.0 in /Users/norah/anaconda3/lib/python3.10/site-packages (from Dash) (5.9.0)\n",
      "Requirement already satisfied: dash-html-components==2.0.0 in /Users/norah/anaconda3/lib/python3.10/site-packages (from Dash) (2.0.0)\n",
      "Requirement already satisfied: dash-core-components==2.0.0 in /Users/norah/anaconda3/lib/python3.10/site-packages (from Dash) (2.0.0)\n",
      "Requirement already satisfied: Werkzeug<=2.2.3 in /Users/norah/anaconda3/lib/python3.10/site-packages (from Dash) (2.2.2)\n",
      "Requirement already satisfied: Flask<=2.2.3,>=1.0.4 in /Users/norah/anaconda3/lib/python3.10/site-packages (from Dash) (2.2.2)\n",
      "Requirement already satisfied: dash-table==5.0.0 in /Users/norah/anaconda3/lib/python3.10/site-packages (from Dash) (5.0.0)\n",
      "Requirement already satisfied: itsdangerous>=2.0 in /Users/norah/anaconda3/lib/python3.10/site-packages (from Flask<=2.2.3,>=1.0.4->Dash) (2.0.1)\n",
      "Requirement already satisfied: Jinja2>=3.0 in /Users/norah/anaconda3/lib/python3.10/site-packages (from Flask<=2.2.3,>=1.0.4->Dash) (3.1.2)\n",
      "Requirement already satisfied: click>=8.0 in /Users/norah/anaconda3/lib/python3.10/site-packages (from Flask<=2.2.3,>=1.0.4->Dash) (8.0.4)\n",
      "Requirement already satisfied: tenacity>=6.2.0 in /Users/norah/anaconda3/lib/python3.10/site-packages (from plotly>=5.0.0->Dash) (8.0.1)\n",
      "Requirement already satisfied: MarkupSafe>=2.1.1 in /Users/norah/anaconda3/lib/python3.10/site-packages (from Werkzeug<=2.2.3->Dash) (2.1.1)\n"
     ]
    }
   ],
   "source": [
    "!pip install jupyter_dash\n",
    "!pip install Dash\n",
    "from dash import Dash, dcc, html, Input, Output\n",
    "from jupyter_dash import JupyterDash"
   ]
  },
  {
   "cell_type": "markdown",
   "metadata": {},
   "source": [
    "# Q1: Make dash that prints \"Data Science\""
   ]
  },
  {
   "cell_type": "code",
   "execution_count": 1,
   "metadata": {},
   "outputs": [
    {
     "name": "stdout",
     "output_type": "stream",
     "text": [
      "Dash is running on http://127.0.0.1:8050/\n",
      "\n",
      " * Serving Flask app '__main__'\n",
      " * Debug mode: off\n"
     ]
    },
    {
     "name": "stderr",
     "output_type": "stream",
     "text": [
      "WARNING: This is a development server. Do not use it in a production deployment. Use a production WSGI server instead.\n",
      " * Running on http://127.0.0.1:8050\n",
      "Press CTRL+C to quit\n",
      "127.0.0.1 - - [31/May/2023 12:28:42] \"GET / HTTP/1.1\" 200 -\n",
      "127.0.0.1 - - [31/May/2023 12:28:42] \"GET /_dash-component-suites/dash/deps/polyfill@7.v2_10_1m1685525227.12.1.min.js HTTP/1.1\" 200 -\n",
      "127.0.0.1 - - [31/May/2023 12:28:42] \"GET /_dash-component-suites/dash/deps/react@16.v2_10_1m1685525227.14.0.min.js HTTP/1.1\" 200 -\n",
      "127.0.0.1 - - [31/May/2023 12:28:42] \"GET /_dash-component-suites/dash/deps/react-dom@16.v2_10_1m1685525227.14.0.min.js HTTP/1.1\" 200 -\n",
      "127.0.0.1 - - [31/May/2023 12:28:42] \"GET /_dash-component-suites/dash/deps/prop-types@15.v2_10_1m1685525227.8.1.min.js HTTP/1.1\" 200 -\n",
      "127.0.0.1 - - [31/May/2023 12:28:42] \"GET /_dash-component-suites/dash/dash-renderer/build/dash_renderer.v2_10_1m1685525226.min.js HTTP/1.1\" 200 -\n",
      "127.0.0.1 - - [31/May/2023 12:28:42] \"GET /_dash-component-suites/dash/dcc/dash_core_components.v2_10_0m1685525227.js HTTP/1.1\" 200 -\n",
      "127.0.0.1 - - [31/May/2023 12:28:42] \"GET /_dash-component-suites/dash/dcc/dash_core_components-shared.v2_10_0m1685525227.js HTTP/1.1\" 200 -\n",
      "127.0.0.1 - - [31/May/2023 12:28:42] \"GET /_dash-component-suites/dash/html/dash_html_components.v2_0_12m1685525227.min.js HTTP/1.1\" 200 -\n",
      "127.0.0.1 - - [31/May/2023 12:28:42] \"GET /_dash-component-suites/dash/dash_table/bundle.v5_2_5m1685525227.js HTTP/1.1\" 200 -\n",
      "127.0.0.1 - - [31/May/2023 12:28:42] \"GET /_dash-layout HTTP/1.1\" 200 -\n",
      "127.0.0.1 - - [31/May/2023 12:28:42] \"GET /_dash-dependencies HTTP/1.1\" 200 -\n",
      "127.0.0.1 - - [31/May/2023 12:28:42] \"GET /_favicon.ico?v=2.10.1 HTTP/1.1\" 200 -\n"
     ]
    }
   ],
   "source": [
    "from dash import Dash, html\n",
    "\n",
    "app = Dash(__name__)\n",
    "\n",
    "app.layout = html.Div([\n",
    "    html.H1(children='Data Science')\n",
    "])\n",
    "\n",
    "if __name__ == '__main__':\n",
    "    app.run() # app.run_server() also works"
   ]
  },
  {
   "cell_type": "markdown",
   "metadata": {},
   "source": [
    "# Q2: Make dash that takes name input and outpt \"Welcome to Data Science dashboard {name}\""
   ]
  },
  {
   "cell_type": "code",
   "execution_count": 1,
   "metadata": {},
   "outputs": [
    {
     "name": "stdout",
     "output_type": "stream",
     "text": [
      "Dash is running on http://127.0.0.1:8050/\n",
      "\n"
     ]
    },
    {
     "data": {
      "text/html": [
       "\n",
       "        <iframe\n",
       "            width=\"100%\"\n",
       "            height=\"650\"\n",
       "            src=\"http://127.0.0.1:8050/\"\n",
       "            frameborder=\"0\"\n",
       "            allowfullscreen\n",
       "            \n",
       "        ></iframe>\n",
       "        "
      ],
      "text/plain": [
       "<IPython.lib.display.IFrame at 0x7fe356c339d0>"
      ]
     },
     "metadata": {},
     "output_type": "display_data"
    }
   ],
   "source": [
    "from dash import Dash, dcc, html, Input, Output\n",
    "from jupyter_dash import JupyterDash\n",
    "\n",
    "app = JupyterDash(__name__)\n",
    "\n",
    "app.layout = html.Div([\n",
    "    html.H3(\"Write your name :)\"),\n",
    "    html.Div([\n",
    "        \"Name: \",\n",
    "        dcc.Input(id='my-input', value=' ', type='text')\n",
    "    ]),\n",
    "    html.Br(),\n",
    "    html.Div(id='my-output'),\n",
    "\n",
    "])\n",
    "\n",
    "\n",
    "@app.callback(\n",
    "    Output(component_id='my-output', component_property='children'),\n",
    "    Input(component_id='my-input', component_property='value')\n",
    ")\n",
    "def update_output_div(input_value):\n",
    "    \n",
    "    return html.H3(f'Welcome to Data Science dashboard {input_value}')\n",
    "\n",
    "\n",
    "if __name__ == '__main__':\n",
    "    app.run_server(mode='inline')"
   ]
  },
  {
   "cell_type": "markdown",
   "metadata": {},
   "source": [
    "# Q3: Make Plotly-Dash that takes two inputs (numbers) and output 3 numbers x, y , z= x+y\n",
    "- hint: use html.Div, dcc.Input(type='number')"
   ]
  },
  {
   "cell_type": "code",
   "execution_count": 1,
   "metadata": {},
   "outputs": [
    {
     "name": "stdout",
     "output_type": "stream",
     "text": [
      "Dash is running on http://127.0.0.1:8050/\n",
      "\n"
     ]
    },
    {
     "data": {
      "text/html": [
       "\n",
       "        <iframe\n",
       "            width=\"100%\"\n",
       "            height=\"650\"\n",
       "            src=\"http://127.0.0.1:8050/\"\n",
       "            frameborder=\"0\"\n",
       "            allowfullscreen\n",
       "            \n",
       "        ></iframe>\n",
       "        "
      ],
      "text/plain": [
       "<IPython.lib.display.IFrame at 0x7f7cd42f3e20>"
      ]
     },
     "metadata": {},
     "output_type": "display_data"
    }
   ],
   "source": [
    "from dash import Dash, dcc, html, Input, Output\n",
    "from jupyter_dash import JupyterDash\n",
    "\n",
    "app = JupyterDash(__name__)\n",
    "\n",
    "app.layout = html.Div([\n",
    "    html.H2(\"Please enter two numbers..\"),\n",
    "    html.Div([\n",
    "         html.H3(\"x:\"),\n",
    "        dcc.Input(id='my-input', value=0, type='number')\n",
    "    ]),\n",
    "    html.Div([\n",
    "        html.H3(\"y:\"),\n",
    "        dcc.Input(id='my-input2', value=0, type='number')\n",
    "    ]),\n",
    "    html.Br(),\n",
    "    html.Div(id='my-output'),\n",
    "\n",
    "])\n",
    "\n",
    "\n",
    "@app.callback(\n",
    "    Output(component_id='my-output', component_property='children'),\n",
    "    Input(component_id='my-input', component_property='value'),\n",
    "    Input(component_id='my-input2', component_property='value')\n",
    ")\n",
    "def update_output_div(input_value, input_value2):\n",
    "    input_value =int(input_value) \n",
    "    input_value2 =int(input_value2) \n",
    "    z= input_value + input_value2 \n",
    "    return html.H4(f'Z = {input_value} + {input_value2} = {z}')\n",
    "\n",
    "\n",
    "if __name__ == '__main__':\n",
    "    app.run_server(mode='inline')"
   ]
  },
  {
   "cell_type": "markdown",
   "metadata": {},
   "source": [
    "# Q4.1: Make JubyterDash with Rangeslider from 1-15 with 6 option"
   ]
  },
  {
   "cell_type": "code",
   "execution_count": 1,
   "metadata": {
    "scrolled": true
   },
   "outputs": [
    {
     "name": "stdout",
     "output_type": "stream",
     "text": [
      "Dash is running on http://127.0.0.1:8050/\n",
      "\n"
     ]
    },
    {
     "data": {
      "text/html": [
       "\n",
       "        <iframe\n",
       "            width=\"100%\"\n",
       "            height=\"650\"\n",
       "            src=\"http://127.0.0.1:8050/\"\n",
       "            frameborder=\"0\"\n",
       "            allowfullscreen\n",
       "            \n",
       "        ></iframe>\n",
       "        "
      ],
      "text/plain": [
       "<IPython.lib.display.IFrame at 0x7fc39f43f610>"
      ]
     },
     "metadata": {},
     "output_type": "display_data"
    }
   ],
   "source": [
    "from dash import Dash, dcc, html, Input, Output\n",
    "from jupyter_dash import JupyterDash\n",
    "\n",
    "app = JupyterDash(__name__) \n",
    "\n",
    "app.layout = html.Div(\n",
    "    children=[\n",
    "        html.H2(\"RangeSlider\"),\n",
    "        dcc.RangeSlider(\n",
    "            id=\"RangeSlider\",\n",
    "            min=1,\n",
    "            max=15,\n",
    "            value=[1, 15]\n",
    "        ),\n",
    "        html.Div(id=\"output\")\n",
    "    ])\n",
    "\n",
    "@app.callback(\n",
    "    Output(\"output\", \"children\"),\n",
    "    Input(\"RangeSlider\", \"value\"))\n",
    "    \n",
    "def update_output_div(value):\n",
    "    return \n",
    "\n",
    "if __name__ == '__main__':\n",
    "    app.run_server(mode='inline')"
   ]
  },
  {
   "cell_type": "markdown",
   "metadata": {},
   "source": [
    "# Q4.2: add to the previous dash: Label, set default value on rangeslider as 7-10"
   ]
  },
  {
   "cell_type": "code",
   "execution_count": 1,
   "metadata": {},
   "outputs": [
    {
     "name": "stdout",
     "output_type": "stream",
     "text": [
      "Dash is running on http://127.0.0.1:8050/\n",
      "\n"
     ]
    },
    {
     "data": {
      "text/html": [
       "\n",
       "        <iframe\n",
       "            width=\"100%\"\n",
       "            height=\"650\"\n",
       "            src=\"http://127.0.0.1:8050/\"\n",
       "            frameborder=\"0\"\n",
       "            allowfullscreen\n",
       "            \n",
       "        ></iframe>\n",
       "        "
      ],
      "text/plain": [
       "<IPython.lib.display.IFrame at 0x7fa800ae76d0>"
      ]
     },
     "metadata": {},
     "output_type": "display_data"
    }
   ],
   "source": [
    "from dash import Dash, dcc, html, Input, Output\n",
    "from jupyter_dash import JupyterDash\n",
    "\n",
    "app = JupyterDash(__name__) \n",
    "\n",
    "app.layout = html.Div(\n",
    "    children=[\n",
    "        html.H2(\"RangeSlider\"),\n",
    "        html.Label(\"Select a range: \"),\n",
    "        dcc.RangeSlider( id=\"RangeSlider\", min=1, max=15,value=[7, 15] ),\n",
    "        html.Div(id=\"RangeSliderOutput\")\n",
    "    ])\n",
    "\n",
    "@app.callback(\n",
    "    Output(\"RangeSliderOutput\", \"children\"),\n",
    "    Input(\"RangeSlider\", \"value\"))\n",
    "    \n",
    "def update_output(value):\n",
    "    return \n",
    "\n",
    "if __name__ == '__main__':\n",
    "    app.run_server(mode='inline')"
   ]
  },
  {
   "cell_type": "markdown",
   "metadata": {},
   "source": [
    "# Q5: Make 3 different Dcc types (Dropdown - Checkbox...) in one dash"
   ]
  },
  {
   "cell_type": "code",
   "execution_count": null,
   "metadata": {},
   "outputs": [
    {
     "name": "stdout",
     "output_type": "stream",
     "text": [
      "Dash is running on http://127.0.0.1:8050/\n",
      "\n",
      " * Serving Flask app '__main__'\n",
      " * Debug mode: off\n"
     ]
    },
    {
     "name": "stderr",
     "output_type": "stream",
     "text": [
      "WARNING: This is a development server. Do not use it in a production deployment. Use a production WSGI server instead.\n",
      " * Running on http://127.0.0.1:8050\n",
      "Press CTRL+C to quit\n",
      "127.0.0.1 - - [31/May/2023 16:25:57] \"GET / HTTP/1.1\" 200 -\n",
      "127.0.0.1 - - [31/May/2023 16:25:57] \"GET /_dash-layout HTTP/1.1\" 200 -\n",
      "127.0.0.1 - - [31/May/2023 16:25:57] \"GET /_dash-dependencies HTTP/1.1\" 200 -\n",
      "127.0.0.1 - - [31/May/2023 16:25:57] \"GET /_dash-component-suites/dash/dcc/async-dropdown.js HTTP/1.1\" 304 -\n",
      "127.0.0.1 - - [31/May/2023 16:25:57] \"POST /_dash-update-component HTTP/1.1\" 200 -\n"
     ]
    }
   ],
   "source": [
    "from dash import Dash, dcc, html, Input, Output\n",
    "import plotly.express as px\n",
    "\n",
    "app = Dash(__name__)\n",
    "\n",
    "app.layout = html.Div([\n",
    "    html.Div([\n",
    "        html.H1('The first Dcc Type is dropdown list : '),\n",
    "        html.H4('Here is an example:'),\n",
    "        html.H2('Select python library/ies that you like:'),\n",
    "        dcc.Dropdown(\n",
    "            id='dropdown',\n",
    "            options=['Numpy','Pandas','Matplotlib','Seaborn'], \n",
    "            multi=True\n",
    "        ),    \n",
    "        html.H1('The second Dcc Type is checklist : '),\n",
    "        html.H4('Here is an example:'),\n",
    "        html.H2('Select python library/ies that you like:'),\n",
    "       dcc.Checklist(\n",
    "        id='checkbox',\n",
    "        options=['Numpy','Pandas','Matplotlib','Seaborn'], \n",
    "    ),\n",
    "        html.H1('The third Dcc Type is radio items : '),\n",
    "        html.H4('Here is an example:'),\n",
    "        html.H2('Choose your years of experiance:'),\n",
    "      dcc.RadioItems(\n",
    "        id='radio',\n",
    "        options=['0-3','3-6','6-9','10 or more'], \n",
    "        value='0-3'\n",
    "    ),\n",
    "    html.Div(id='output')\n",
    "])\n",
    "])\n",
    "\n",
    "@app.callback(\n",
    "    Output('output', 'children'), \n",
    "    Input('dropdown', 'value'),\n",
    "    Input('checkbox', 'value'),\n",
    "    Input('radio', 'value')\n",
    ")\n",
    "def update_output(dropdown_value, checkbox_value, radio_value):\n",
    "    return \n",
    "\n",
    "if __name__ == '__main__':\n",
    "    app.run_server()"
   ]
  },
  {
   "cell_type": "markdown",
   "metadata": {},
   "source": [
    "# Q6: Make Plotly chart, then add it to a plotly_dash"
   ]
  },
  {
   "cell_type": "code",
   "execution_count": 1,
   "metadata": {},
   "outputs": [],
   "source": [
    "import plotly.express as px"
   ]
  },
  {
   "cell_type": "code",
   "execution_count": 1,
   "metadata": {},
   "outputs": [
    {
     "name": "stdout",
     "output_type": "stream",
     "text": [
      "Dash is running on http://127.0.0.1:8050/\n",
      "\n"
     ]
    },
    {
     "data": {
      "text/html": [
       "\n",
       "        <iframe\n",
       "            width=\"100%\"\n",
       "            height=\"650\"\n",
       "            src=\"http://127.0.0.1:8050/\"\n",
       "            frameborder=\"0\"\n",
       "            allowfullscreen\n",
       "            \n",
       "        ></iframe>\n",
       "        "
      ],
      "text/plain": [
       "<IPython.lib.display.IFrame at 0x7fed72f6b460>"
      ]
     },
     "metadata": {},
     "output_type": "display_data"
    }
   ],
   "source": [
    "from dash import Dash, dcc, html, Input, Output\n",
    "import plotly.graph_objects as go\n",
    "import numpy as np\n",
    "from jupyter_dash import JupyterDash\n",
    "\n",
    "app = JupyterDash(__name__)\n",
    "\n",
    "app.layout = html.Div([\n",
    "    dcc.Graph(id=\"graph\"),\n",
    "])\n",
    "\n",
    "@app.callback(\n",
    "    Output(\"graph\", \"figure\"),\n",
    "    [Input(\"graph\", \"id\")]\n",
    ")\n",
    "def update_chart(value):\n",
    "    binomial_dis = np.random.binomial(10, 0.5, 1000)\n",
    "    fig = go.Figure(data=[go.Histogram(x=binomial_dis)])\n",
    "    return fig\n",
    "\n",
    "app.run_server(mode='inline')"
   ]
  },
  {
   "cell_type": "markdown",
   "metadata": {},
   "source": [
    "# Q7: From our data make plotly-dash with suitble chart, and Dropdown.\n",
    "\n",
    "- Dropdown should contain at least 3 options, each one represents different column.\n",
    "- Add label to dropdown.\n",
    "- The chart data should change depending on the selected dropdown option."
   ]
  },
  {
   "cell_type": "code",
   "execution_count": null,
   "metadata": {},
   "outputs": [],
   "source": [
    "import pandas as pd\n",
    "df = pd.read_csv(\"/Users/norah/Downloads/titanic passenger list.csv\")"
   ]
  },
  {
   "cell_type": "code",
   "execution_count": 1,
   "metadata": {},
   "outputs": [
    {
     "name": "stdout",
     "output_type": "stream",
     "text": [
      "Dash is running on http://127.0.0.1:8050/\n",
      "\n"
     ]
    },
    {
     "data": {
      "text/html": [
       "\n",
       "        <iframe\n",
       "            width=\"100%\"\n",
       "            height=\"650\"\n",
       "            src=\"http://127.0.0.1:8050/\"\n",
       "            frameborder=\"0\"\n",
       "            allowfullscreen\n",
       "            \n",
       "        ></iframe>\n",
       "        "
      ],
      "text/plain": [
       "<IPython.lib.display.IFrame at 0x7fd1c86bfca0>"
      ]
     },
     "metadata": {},
     "output_type": "display_data"
    }
   ],
   "source": [
    "from dash import Dash, dcc, html, Input, Output\n",
    "import plotly.graph_objects as go\n",
    "import numpy as np\n",
    "from jupyter_dash import JupyterDash\n",
    "from dash.dependencies import Input, Output\n",
    "import plotly.express as px\n",
    "import pandas as pd\n",
    "\n",
    "\n",
    "df = pd.read_csv('/Users/norah/Downloads/titanic passenger list.csv')\n",
    "\n",
    "\n",
    "app = JupyterDash(__name__)\n",
    "\n",
    "\n",
    "app.layout = html.Div([\n",
    "    html.Label(\"Select a column to draw a histogram figure for it :\"),\n",
    "    dcc.Dropdown(\n",
    "        id='dropdown',\n",
    "        options=df.columns.to_series().reset_index(drop=True).to_dict(),\n",
    "        value=df.columns[4], # (age) column will be the default value\n",
    "    ),\n",
    "    dcc.Graph(id='chart')\n",
    "])\n",
    "\n",
    "\n",
    "@app.callback(\n",
    "    Output('chart', 'figure'),\n",
    "    Input('dropdown', 'value')\n",
    ")\n",
    "def update_chart(selected_column):\n",
    "    fig = px.histogram(df, x=selected_column, title=f\"Distribution of {selected_column}\")\n",
    "    return fig\n",
    "\n",
    "\n",
    "if __name__ == '__main__':\n",
    "        app.run_server(mode='inline')"
   ]
  },
  {
   "cell_type": "markdown",
   "metadata": {},
   "source": [
    "# Q8: add 2 more charts to the prevoius Ploty-Dash"
   ]
  },
  {
   "cell_type": "code",
   "execution_count": 1,
   "metadata": {
    "scrolled": false
   },
   "outputs": [
    {
     "name": "stdout",
     "output_type": "stream",
     "text": [
      "Dash is running on http://127.0.0.1:8050/\n",
      "\n"
     ]
    },
    {
     "data": {
      "text/html": [
       "\n",
       "        <iframe\n",
       "            width=\"100%\"\n",
       "            height=\"650\"\n",
       "            src=\"http://127.0.0.1:8050/\"\n",
       "            frameborder=\"0\"\n",
       "            allowfullscreen\n",
       "            \n",
       "        ></iframe>\n",
       "        "
      ],
      "text/plain": [
       "<IPython.lib.display.IFrame at 0x7fea096ebcd0>"
      ]
     },
     "metadata": {},
     "output_type": "display_data"
    }
   ],
   "source": [
    "from dash import Dash, dcc, html, Input, Output\n",
    "import plotly.graph_objects as go\n",
    "import numpy as np\n",
    "from jupyter_dash import JupyterDash\n",
    "from dash.dependencies import Input, Output\n",
    "import plotly.express as px\n",
    "import pandas as pd\n",
    "\n",
    "\n",
    "df = pd.read_csv('/Users/norah/Downloads/titanic passenger list.csv')\n",
    "\n",
    "\n",
    "app = JupyterDash(__name__)\n",
    "\n",
    "\n",
    "app.layout = html.Div([\n",
    "    html.Label(\"Select a column to draw a figure for it :\"),\n",
    "    dcc.Dropdown(\n",
    "        id='dropdown',\n",
    "        options=df.columns.to_series().reset_index(drop=True).to_dict(),\n",
    "        value=df.columns[8], # (fare) column will be the default value\n",
    "    ),\n",
    "    \n",
    "    html.Div([\n",
    "        html.Div(dcc.Graph(id='chart1'), style={'flex': '1'}),\n",
    "        html.Div(dcc.Graph(id='chart2'), style={'flex': '1'}),\n",
    "        html.Div(dcc.Graph(id='chart3'), style={'flex': '1'}),\n",
    "    ], style={'display': 'flex', 'flex-direction': 'column'})\n",
    "])\n",
    "\n",
    "\n",
    "\n",
    "@app.callback(\n",
    "    [Output('chart1', 'figure'), Output('chart2', 'figure'), Output('chart3', 'figure')],\n",
    "    Input('dropdown', 'value')\n",
    ")\n",
    "def update_charts(selected_column):\n",
    "    fig1 = px.histogram(df, x=selected_column, title=f\"Distribution of {selected_column}\")\n",
    "    fig2 = px.scatter(df, x=selected_column, y='age', title=f\"{selected_column} vs age\")\n",
    "    fig3 = px.line(df, x='pclass', y=selected_column, title=f\"{selected_column} vs pclass\")\n",
    "    return fig1, fig2, fig3\n",
    "\n",
    "\n",
    "\n",
    "if __name__ == '__main__':\n",
    "        app.run_server(mode='inline')"
   ]
  },
  {
   "cell_type": "markdown",
   "metadata": {},
   "source": [
    "# Q9: Search for \"Plotly Gallery\" and fetch for a graph and use it with our data.\n",
    "\n",
    "- Note: You need to put the resourse addres of fetched your grapth."
   ]
  },
  {
   "cell_type": "code",
   "execution_count": 1,
   "metadata": {},
   "outputs": [
    {
     "name": "stdout",
     "output_type": "stream",
     "text": [
      "Dash is running on http://127.0.0.1:8050/\n",
      "\n"
     ]
    },
    {
     "data": {
      "text/html": [
       "\n",
       "        <iframe\n",
       "            width=\"100%\"\n",
       "            height=\"650\"\n",
       "            src=\"http://127.0.0.1:8050/\"\n",
       "            frameborder=\"0\"\n",
       "            allowfullscreen\n",
       "            \n",
       "        ></iframe>\n",
       "        "
      ],
      "text/plain": [
       "<IPython.lib.display.IFrame at 0x7fad509af0a0>"
      ]
     },
     "metadata": {},
     "output_type": "display_data"
    }
   ],
   "source": [
    "#Resource: https://plotly.com/python/histograms/\n",
    "\n",
    "from dash import Dash, dcc, html, Input, Output\n",
    "import plotly.graph_objects as go\n",
    "from jupyter_dash import JupyterDash\n",
    "import pandas as pd\n",
    "\n",
    "df = pd.read_csv('/Users/norah/Downloads/titanic passenger list.csv')\n",
    "\n",
    "fig = go.Figure(data=[go.Histogram(x=df[\"age\"])])\n",
    "fig.update_layout(title=\"Distribution of Age\")\n",
    "\n",
    "app = JupyterDash(__name__)\n",
    "app.layout = html.Div([\n",
    "    dcc.Graph(figure=fig),\n",
    "])\n",
    "\n",
    "app.run_server(mode='inline')"
   ]
  },
  {
   "cell_type": "markdown",
   "metadata": {},
   "source": [
    "# Challenge 1.1: Create Plotly dash with two charts depends on different columns of the data\n",
    "- First Chart : Pie\n",
    "- Secound Chart: is by your Choice ( Not Pie )"
   ]
  },
  {
   "cell_type": "code",
   "execution_count": 2,
   "metadata": {
    "scrolled": false
   },
   "outputs": [
    {
     "name": "stdout",
     "output_type": "stream",
     "text": [
      "Dash is running on http://127.0.0.1:8050/\n",
      "\n"
     ]
    },
    {
     "data": {
      "text/html": [
       "\n",
       "        <iframe\n",
       "            width=\"100%\"\n",
       "            height=\"650\"\n",
       "            src=\"http://127.0.0.1:8050/\"\n",
       "            frameborder=\"0\"\n",
       "            allowfullscreen\n",
       "            \n",
       "        ></iframe>\n",
       "        "
      ],
      "text/plain": [
       "<IPython.lib.display.IFrame at 0x7fea7872ddb0>"
      ]
     },
     "metadata": {},
     "output_type": "display_data"
    }
   ],
   "source": [
    "from dash import Dash, dcc, html, Input, Output\n",
    "import plotly.graph_objects as go\n",
    "import numpy as np\n",
    "from jupyter_dash import JupyterDash\n",
    "from dash.dependencies import Input, Output\n",
    "import plotly.express as px\n",
    "import pandas as pd\n",
    "\n",
    "df = pd.read_csv('/Users/norah/Downloads/titanic passenger list.csv')\n",
    "\n",
    "app = JupyterDash(__name__)\n",
    "\n",
    "app.layout = html.Div([\n",
    "    html.Label(\"Select a two column to draw a figure for it:\"),\n",
    "    dcc.Dropdown(\n",
    "        id='dropdown1',\n",
    "        options=[{'label': col, 'value': col} for col in df.columns],\n",
    "        value= df.columns[0], #the first column will be the defult value\n",
    "    ),\n",
    "    dcc.Dropdown(\n",
    "        id='dropdown2',\n",
    "        options=[{'label': col, 'value': col} for col in df.columns],\n",
    "        value= df.columns[0],\n",
    "    ),\n",
    "    html.Button('Enter', id='enter-btn', n_clicks=0),\n",
    "    html.Div([\n",
    "        html.Div(dcc.Graph(id='chart1'), style={'flex': '1'}),\n",
    "        html.Div(dcc.Graph(id='chart2'), style={'flex': '1'}),\n",
    "    ], style={'display': 'flex', 'flex-direction': 'column'})\n",
    "])\n",
    "\n",
    "\n",
    "@app.callback(\n",
    "    [Output('chart1', 'figure'), Output('chart2', 'figure')],\n",
    "    [Input('enter-btn', 'clicks')],\n",
    "    [Input('dropdown1', 'value'), Input('dropdown2', 'value')]\n",
    ")\n",
    "def update_charts(clicks, selected_column1, selected_column2):\n",
    "    fig1 = go.Figure(data=[go.Pie(labels=df[selected_column1].unique())])\n",
    "    fig1.update_layout(title=f\"Pie Chart - {selected_column1}\")\n",
    "\n",
    "    fig2 = go.Figure(data=[go.Scatter(x=df[selected_column1], y=df[selected_column2])])\n",
    "    fig2.update_layout(title=f\"Scatter Plot - {selected_column1} vs {selected_column2}\")\n",
    "    fig2.update_xaxes(title=selected_column1)\n",
    "    fig2.update_yaxes(title=selected_column2)\n",
    "    \n",
    "    return fig1, fig2\n",
    "\n",
    "if __name__ == '__main__':\n",
    "    app.run_server(mode='inline')"
   ]
  },
  {
   "cell_type": "markdown",
   "metadata": {},
   "source": [
    "# Challenge 1.2: Make Hovering over a slice of the pie changes the data for the second chart depending on what the slice is."
   ]
  },
  {
   "cell_type": "code",
   "execution_count": null,
   "metadata": {},
   "outputs": [],
   "source": []
  }
 ],
 "metadata": {
  "kernelspec": {
   "display_name": "Python 3 (ipykernel)",
   "language": "python",
   "name": "python3"
  },
  "language_info": {
   "codemirror_mode": {
    "name": "ipython",
    "version": 3
   },
   "file_extension": ".py",
   "mimetype": "text/x-python",
   "name": "python",
   "nbconvert_exporter": "python",
   "pygments_lexer": "ipython3",
   "version": "3.10.9"
  }
 },
 "nbformat": 4,
 "nbformat_minor": 2
}
